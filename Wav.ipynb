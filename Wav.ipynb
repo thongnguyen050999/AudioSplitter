{
 "cells": [
  {
   "cell_type": "code",
   "execution_count": 1,
   "metadata": {},
   "outputs": [],
   "source": [
    "from pydub import *\n",
    "import os"
   ]
  },
  {
   "cell_type": "code",
   "execution_count": 2,
   "metadata": {},
   "outputs": [],
   "source": [
    "for i in range(1,7):\n",
    "    sound=AudioSegment.from_file('./cfg/file_'+str(i)+'.mp3')\n",
    "    sound=sound.set_channels(1)\n",
    "    sound.export('./cfg/file_'+str(i)+'.wav',format='wav')"
   ]
  },
  {
   "cell_type": "markdown",
   "metadata": {},
   "source": [
    "## Person A"
   ]
  },
  {
   "cell_type": "code",
   "execution_count": 5,
   "metadata": {},
   "outputs": [
    {
     "name": "stdout",
     "output_type": "stream",
     "text": [
      "0\n",
      "1\n",
      "2\n",
      "3\n",
      "4\n",
      "5\n",
      "6\n",
      "7\n",
      "8\n",
      "9\n",
      "10\n",
      "11\n",
      "12\n",
      "13\n",
      "14\n",
      "15\n",
      "16\n",
      "17\n",
      "18\n",
      "19\n",
      "20\n",
      "21\n",
      "22\n"
     ]
    }
   ],
   "source": [
    "sound=AudioSegment.from_wav('./cfg/file_1.wav')\n",
    "output_path='./cfg/A'\n",
    "segments=[[168000,175000],[190000,206000],[233000,270000],[310000,322000]]\n",
    "index=0\n",
    "for idx in range(len(segments)):\n",
    "    l=segments[idx][0]\n",
    "    r=segments[idx][1]\n",
    "    numSegments=(r-l)//3000\n",
    "    for i in range(numSegments): \n",
    "        tmp=sound[l+i*3000:l+(i+1)*3000]\n",
    "        print(str(index))\n",
    "        tmp.export(os.path.join(output_path,'A_'+str(index)+'.wav'),format='wav')\n",
    "        index+=1"
   ]
  },
  {
   "cell_type": "markdown",
   "metadata": {},
   "source": [
    "## Person B"
   ]
  },
  {
   "cell_type": "code",
   "execution_count": 8,
   "metadata": {},
   "outputs": [
    {
     "name": "stdout",
     "output_type": "stream",
     "text": [
      "0\n",
      "1\n",
      "2\n",
      "3\n",
      "4\n",
      "5\n",
      "6\n",
      "7\n",
      "8\n",
      "9\n",
      "10\n",
      "11\n",
      "12\n",
      "13\n",
      "14\n",
      "15\n",
      "16\n",
      "17\n",
      "18\n",
      "19\n",
      "20\n"
     ]
    }
   ],
   "source": [
    "sound=AudioSegment.from_wav('./cfg/file_2.wav')\n",
    "output_path='./cfg/B'\n",
    "segments=[[210000,243000],[259000,291000]]\n",
    "index=0\n",
    "for idx in range(len(segments)):\n",
    "    l=segments[idx][0]\n",
    "    r=segments[idx][1]\n",
    "    numSegments=(r-l)//3000\n",
    "    for i in range(numSegments): \n",
    "        tmp=sound[l+i*3000:l+(i+1)*3000]\n",
    "        print(str(index))\n",
    "        tmp.export(os.path.join(output_path,'B_'+str(index)+'.wav'),format='wav')\n",
    "        index+=1"
   ]
  },
  {
   "cell_type": "markdown",
   "metadata": {},
   "source": [
    "## Person C"
   ]
  },
  {
   "cell_type": "code",
   "execution_count": 10,
   "metadata": {},
   "outputs": [
    {
     "name": "stdout",
     "output_type": "stream",
     "text": [
      "0\n",
      "1\n",
      "2\n",
      "3\n",
      "4\n",
      "5\n",
      "6\n",
      "7\n",
      "8\n",
      "9\n",
      "10\n",
      "11\n",
      "12\n",
      "13\n",
      "14\n",
      "15\n",
      "16\n",
      "17\n",
      "18\n",
      "19\n",
      "20\n",
      "21\n",
      "22\n",
      "23\n"
     ]
    }
   ],
   "source": [
    "sound=AudioSegment.from_wav('./cfg/file_3.wav')\n",
    "output_path='./cfg/C'\n",
    "segments=[[24000,52000],[78000,123000]]\n",
    "index=0\n",
    "for idx in range(len(segments)):\n",
    "    l=segments[idx][0]\n",
    "    r=segments[idx][1]\n",
    "    numSegments=(r-l)//3000\n",
    "    for i in range(numSegments): \n",
    "        tmp=sound[l+i*3000:l+(i+1)*3000]\n",
    "        print(str(index))\n",
    "        tmp.export(os.path.join(output_path,'C_'+str(index)+'.wav'),format='wav')\n",
    "        index+=1"
   ]
  },
  {
   "cell_type": "markdown",
   "metadata": {},
   "source": [
    "## Person D"
   ]
  },
  {
   "cell_type": "code",
   "execution_count": 40,
   "metadata": {},
   "outputs": [
    {
     "data": {
      "text/plain": [
       "232501"
      ]
     },
     "execution_count": 40,
     "metadata": {},
     "output_type": "execute_result"
    }
   ],
   "source": [
    "len(sound)"
   ]
  },
  {
   "cell_type": "code",
   "execution_count": 11,
   "metadata": {},
   "outputs": [
    {
     "name": "stdout",
     "output_type": "stream",
     "text": [
      "0\n",
      "1\n",
      "2\n",
      "3\n",
      "4\n",
      "5\n",
      "6\n",
      "7\n",
      "8\n",
      "9\n",
      "10\n",
      "11\n",
      "12\n",
      "13\n",
      "14\n",
      "15\n",
      "16\n",
      "17\n",
      "18\n",
      "19\n",
      "20\n",
      "21\n",
      "22\n",
      "23\n"
     ]
    }
   ],
   "source": [
    "sound=AudioSegment.from_wav('./cfg/file_4.wav')\n",
    "output_path='./cfg/D'\n",
    "segments=[[174000,200000],[216000,264000]]\n",
    "index=0\n",
    "for idx in range(len(segments)):\n",
    "    l=segments[idx][0]\n",
    "    r=segments[idx][1]\n",
    "    numSegments=(r-l)//3000\n",
    "    for i in range(numSegments): \n",
    "        tmp=sound[l+i*3000:l+(i+1)*3000]\n",
    "        print(str(index))\n",
    "        tmp.export(os.path.join(output_path,'D_'+str(index)+'.wav'),format='wav')\n",
    "        index+=1"
   ]
  },
  {
   "cell_type": "markdown",
   "metadata": {},
   "source": [
    "## Person E"
   ]
  },
  {
   "cell_type": "code",
   "execution_count": 15,
   "metadata": {},
   "outputs": [
    {
     "name": "stdout",
     "output_type": "stream",
     "text": [
      "0\n",
      "1\n",
      "2\n",
      "3\n",
      "4\n",
      "5\n",
      "6\n",
      "7\n",
      "8\n",
      "9\n",
      "10\n",
      "11\n",
      "12\n",
      "13\n",
      "14\n",
      "15\n",
      "16\n",
      "17\n",
      "18\n",
      "19\n",
      "20\n",
      "21\n",
      "22\n"
     ]
    }
   ],
   "source": [
    "sound=AudioSegment.from_wav('./cfg/file_5.wav')\n",
    "output_path='./cfg/E'\n",
    "segments=[[200000,255000],[273000,290000]]\n",
    "index=0\n",
    "for idx in range(len(segments)):\n",
    "    l=segments[idx][0]\n",
    "    r=segments[idx][1]\n",
    "    numSegments=(r-l)//3000\n",
    "    for i in range(numSegments): \n",
    "        tmp=sound[l+i*3000:l+(i+1)*3000]\n",
    "        print(str(index))\n",
    "        tmp.export(os.path.join(output_path,'E_'+str(index)+'.wav'),format='wav')\n",
    "        index+=1"
   ]
  },
  {
   "cell_type": "markdown",
   "metadata": {},
   "source": [
    "## Person F"
   ]
  },
  {
   "cell_type": "code",
   "execution_count": 16,
   "metadata": {
    "scrolled": true
   },
   "outputs": [
    {
     "name": "stdout",
     "output_type": "stream",
     "text": [
      "0\n",
      "1\n",
      "2\n",
      "3\n",
      "4\n",
      "5\n",
      "6\n",
      "7\n",
      "8\n",
      "9\n",
      "10\n",
      "11\n",
      "12\n",
      "13\n",
      "14\n",
      "15\n",
      "16\n",
      "17\n",
      "18\n",
      "19\n",
      "20\n",
      "21\n"
     ]
    }
   ],
   "source": [
    "sound=AudioSegment.from_wav('./cfg/file_6.wav')\n",
    "output_path='./cfg/F'\n",
    "segments=[[164000,170000],[172000,216000],[226000,245000]]\n",
    "index=0\n",
    "for idx in range(len(segments)):\n",
    "    l=segments[idx][0]\n",
    "    r=segments[idx][1]\n",
    "    numSegments=(r-l)//3000\n",
    "    for i in range(numSegments): \n",
    "        tmp=sound[l+i*3000:l+(i+1)*3000]\n",
    "        print(str(index))\n",
    "        tmp.export(os.path.join(output_path,'F_'+str(index)+'.wav'),format='wav')\n",
    "        index+=1"
   ]
  },
  {
   "cell_type": "markdown",
   "metadata": {},
   "source": [
    "## Labels"
   ]
  },
  {
   "cell_type": "code",
   "execution_count": 15,
   "metadata": {},
   "outputs": [],
   "source": [
    "labels={}\n",
    "for path,dir,files in os.walk('./Dataset/Mono'):\n",
    "    for file in files: \n",
    "        if file[-3:]=='wav': \n",
    "            key=os.path.join(path,file)[len('./Dataset/Mono\\\\'):]\n",
    "            key=key.replace('\\\\','/')\n",
    "            labels[key]=ord(file[0])-65"
   ]
  },
  {
   "cell_type": "code",
   "execution_count": 16,
   "metadata": {},
   "outputs": [
    {
     "data": {
      "text/plain": [
       "{'train/A/A_0.wav': 0,\n",
       " 'train/A/A_1.wav': 0,\n",
       " 'train/A/A_10.wav': 0,\n",
       " 'train/A/A_11.wav': 0,\n",
       " 'train/A/A_12.wav': 0,\n",
       " 'train/A/A_13.wav': 0,\n",
       " 'train/A/A_14.wav': 0,\n",
       " 'train/A/A_15.wav': 0,\n",
       " 'train/A/A_16.wav': 0,\n",
       " 'train/A/A_17.wav': 0,\n",
       " 'train/A/A_18.wav': 0,\n",
       " 'train/A/A_19.wav': 0,\n",
       " 'train/A/A_2.wav': 0,\n",
       " 'train/A/A_3.wav': 0,\n",
       " 'train/A/A_4.wav': 0,\n",
       " 'train/A/A_5.wav': 0,\n",
       " 'train/A/A_6.wav': 0,\n",
       " 'train/A/A_7.wav': 0,\n",
       " 'train/A/A_8.wav': 0,\n",
       " 'train/A/A_9.wav': 0,\n",
       " 'train/B/B_0.wav': 1,\n",
       " 'train/B/B_1.wav': 1,\n",
       " 'train/B/B_10.wav': 1,\n",
       " 'train/B/B_11.wav': 1,\n",
       " 'train/B/B_12.wav': 1,\n",
       " 'train/B/B_13.wav': 1,\n",
       " 'train/B/B_14.wav': 1,\n",
       " 'train/B/B_15.wav': 1,\n",
       " 'train/B/B_16.wav': 1,\n",
       " 'train/B/B_17.wav': 1,\n",
       " 'train/B/B_18.wav': 1,\n",
       " 'train/B/B_19.wav': 1,\n",
       " 'train/B/B_2.wav': 1,\n",
       " 'train/B/B_3.wav': 1,\n",
       " 'train/B/B_4.wav': 1,\n",
       " 'train/B/B_5.wav': 1,\n",
       " 'train/B/B_6.wav': 1,\n",
       " 'train/B/B_7.wav': 1,\n",
       " 'train/B/B_8.wav': 1,\n",
       " 'train/B/B_9.wav': 1,\n",
       " 'train/C/C_0.wav': 2,\n",
       " 'train/C/C_1.wav': 2,\n",
       " 'train/C/C_10.wav': 2,\n",
       " 'train/C/C_11.wav': 2,\n",
       " 'train/C/C_12.wav': 2,\n",
       " 'train/C/C_13.wav': 2,\n",
       " 'train/C/C_14.wav': 2,\n",
       " 'train/C/C_15.wav': 2,\n",
       " 'train/C/C_16.wav': 2,\n",
       " 'train/C/C_17.wav': 2,\n",
       " 'train/C/C_18.wav': 2,\n",
       " 'train/C/C_19.wav': 2,\n",
       " 'train/C/C_2.wav': 2,\n",
       " 'train/C/C_3.wav': 2,\n",
       " 'train/C/C_4.wav': 2,\n",
       " 'train/C/C_5.wav': 2,\n",
       " 'train/C/C_6.wav': 2,\n",
       " 'train/C/C_7.wav': 2,\n",
       " 'train/C/C_8.wav': 2,\n",
       " 'train/C/C_9.wav': 2,\n",
       " 'train/D/D_0.wav': 3,\n",
       " 'train/D/D_1.wav': 3,\n",
       " 'train/D/D_10.wav': 3,\n",
       " 'train/D/D_11.wav': 3,\n",
       " 'train/D/D_12.wav': 3,\n",
       " 'train/D/D_13.wav': 3,\n",
       " 'train/D/D_14.wav': 3,\n",
       " 'train/D/D_15.wav': 3,\n",
       " 'train/D/D_16.wav': 3,\n",
       " 'train/D/D_17.wav': 3,\n",
       " 'train/D/D_18.wav': 3,\n",
       " 'train/D/D_19.wav': 3,\n",
       " 'train/D/D_2.wav': 3,\n",
       " 'train/D/D_3.wav': 3,\n",
       " 'train/D/D_4.wav': 3,\n",
       " 'train/D/D_5.wav': 3,\n",
       " 'train/D/D_6.wav': 3,\n",
       " 'train/D/D_7.wav': 3,\n",
       " 'train/D/D_8.wav': 3,\n",
       " 'train/D/D_9.wav': 3,\n",
       " 'train/E/E_0.wav': 4,\n",
       " 'train/E/E_1.wav': 4,\n",
       " 'train/E/E_10.wav': 4,\n",
       " 'train/E/E_11.wav': 4,\n",
       " 'train/E/E_12.wav': 4,\n",
       " 'train/E/E_13.wav': 4,\n",
       " 'train/E/E_14.wav': 4,\n",
       " 'train/E/E_15.wav': 4,\n",
       " 'train/E/E_16.wav': 4,\n",
       " 'train/E/E_17.wav': 4,\n",
       " 'train/E/E_18.wav': 4,\n",
       " 'train/E/E_19.wav': 4,\n",
       " 'train/E/E_2.wav': 4,\n",
       " 'train/E/E_3.wav': 4,\n",
       " 'train/E/E_4.wav': 4,\n",
       " 'train/E/E_5.wav': 4,\n",
       " 'train/E/E_6.wav': 4,\n",
       " 'train/E/E_7.wav': 4,\n",
       " 'train/E/E_8.wav': 4,\n",
       " 'train/E/E_9.wav': 4,\n",
       " 'train/F/F_0.wav': 5,\n",
       " 'train/F/F_1.wav': 5,\n",
       " 'train/F/F_10.wav': 5,\n",
       " 'train/F/F_11.wav': 5,\n",
       " 'train/F/F_12.wav': 5,\n",
       " 'train/F/F_13.wav': 5,\n",
       " 'train/F/F_14.wav': 5,\n",
       " 'train/F/F_15.wav': 5,\n",
       " 'train/F/F_16.wav': 5,\n",
       " 'train/F/F_17.wav': 5,\n",
       " 'train/F/F_18.wav': 5,\n",
       " 'train/F/F_19.wav': 5,\n",
       " 'train/F/F_2.wav': 5,\n",
       " 'train/F/F_3.wav': 5,\n",
       " 'train/F/F_4.wav': 5,\n",
       " 'train/F/F_5.wav': 5,\n",
       " 'train/F/F_6.wav': 5,\n",
       " 'train/F/F_7.wav': 5,\n",
       " 'train/F/F_8.wav': 5,\n",
       " 'train/F/F_9.wav': 5}"
      ]
     },
     "execution_count": 16,
     "metadata": {},
     "output_type": "execute_result"
    }
   ],
   "source": [
    "labels"
   ]
  },
  {
   "cell_type": "code",
   "execution_count": 17,
   "metadata": {},
   "outputs": [],
   "source": [
    "from numpy import *\n",
    "\n",
    "save('Dataset_labels.npy',labels)"
   ]
  },
  {
   "cell_type": "code",
   "execution_count": 7,
   "metadata": {},
   "outputs": [],
   "source": [
    "destPath='./Dataset/Mono/train'\n",
    "sourcePath='./Dataset/train'\n",
    "\n",
    "for path,directory,files in os.walk(sourcePath):\n",
    "    for file in files:\n",
    "        filePath=os.path.join(path,file)\n",
    "        sound=AudioSegment.from_file(filePath)\n",
    "        sound.set_channels(1)\n",
    "        sound.export(os.path.join(os.path.join(destPath,path[-1]),file),format='wav')"
   ]
  }
 ],
 "metadata": {
  "kernelspec": {
   "display_name": "Python 3",
   "language": "python",
   "name": "python3"
  },
  "language_info": {
   "codemirror_mode": {
    "name": "ipython",
    "version": 3
   },
   "file_extension": ".py",
   "mimetype": "text/x-python",
   "name": "python",
   "nbconvert_exporter": "python",
   "pygments_lexer": "ipython3",
   "version": "3.7.6"
  }
 },
 "nbformat": 4,
 "nbformat_minor": 4
}
